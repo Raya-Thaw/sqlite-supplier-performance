{
 "cells": [
  {
   "cell_type": "code",
   "execution_count": 8,
   "metadata": {},
   "outputs": [],
   "source": [
    "import sqlite3\n",
    "import matplotlib.pyplot as plt\n",
    "from datetime import datetime"
   ]
  },
  {
   "cell_type": "code",
   "execution_count": 9,
   "metadata": {},
   "outputs": [],
   "source": [
    "# Create or connect to a database file\n",
    "conn = sqlite3.connect('supplier_tracker.db')\n",
    "cursor = conn.cursor()"
   ]
  },
  {
   "cell_type": "code",
   "execution_count": 10,
   "metadata": {},
   "outputs": [],
   "source": [
    "# Create suppliers table\n",
    "cursor.execute('''\n",
    "CREATE TABLE IF NOT EXISTS suppliers (\n",
    "    supplier_id INTEGER PRIMARY KEY AUTOINCREMENT,\n",
    "    name TEXT NOT NULL,\n",
    "    location TEXT,\n",
    "    contact TEXT\n",
    ")\n",
    "''')\n",
    "\n",
    "# Create deliveries table\n",
    "cursor.execute('''\n",
    "CREATE TABLE IF NOT EXISTS deliveries (\n",
    "    delivery_id INTEGER PRIMARY KEY AUTOINCREMENT,\n",
    "    supplier_id INTEGER,\n",
    "    expected_date TEXT,\n",
    "    actual_date TEXT,\n",
    "    product TEXT,\n",
    "    quantity INTEGER,\n",
    "    FOREIGN KEY (supplier_id) REFERENCES suppliers (supplier_id)\n",
    ")\n",
    "''')\n",
    "\n",
    "conn.commit()"
   ]
  },
  {
   "cell_type": "code",
   "execution_count": 11,
   "metadata": {},
   "outputs": [],
   "source": [
    "suppliers_data = [\n",
    "    ('Alpha Ltd', 'Bangkok, Thailand', 'alpha@email.com'),\n",
    "    ('Beta Corp', 'Yangon, Myanmar', 'beta@email.com'),\n",
    "    ('Gamma Inc', 'Hanoi, Vietnam', 'gamma@email.com')\n",
    "]\n",
    "\n",
    "cursor.executemany('INSERT INTO suppliers (name, location, contact) VALUES (?, ?, ?)', suppliers_data)\n",
    "conn.commit()"
   ]
  },
  {
   "cell_type": "code",
   "execution_count": 12,
   "metadata": {},
   "outputs": [],
   "source": [
    "deliveries_data = [\n",
    "    (1, '2025-06-08', '2025-06-08', 'Steel Rods', 100),\n",
    "    (1, '2025-06-08', '2025-06-09', 'Bolts', 200),\n",
    "    (2, '2025-06-07', '2025-06-07', 'Plastic Cases', 300),\n",
    "    (2, '2025-06-07', '2025-06-06', 'Rubber Seals', 150),\n",
    "    (3, '2025-06-09', '2025-06-11', 'Glass Panels', 80),\n",
    "]\n",
    "\n",
    "cursor.executemany('''\n",
    "INSERT INTO deliveries (supplier_id, expected_date, actual_date, product, quantity)\n",
    "VALUES (?, ?, ?, ?, ?)\n",
    "''', deliveries_data)\n",
    "\n",
    "conn.commit()"
   ]
  },
  {
   "cell_type": "code",
   "execution_count": 13,
   "metadata": {},
   "outputs": [
    {
     "name": "stdout",
     "output_type": "stream",
     "text": [
      "Supplier: Alpha Ltd, Total Deliveries: 2, On-Time: 1, On-Time %: 50.0%\n",
      "Supplier: Beta Corp, Total Deliveries: 2, On-Time: 2, On-Time %: 100.0%\n",
      "Supplier: Gamma Inc, Total Deliveries: 1, On-Time: 0, On-Time %: 0.0%\n"
     ]
    }
   ],
   "source": [
    "query = '''\n",
    "SELECT s.name,\n",
    "       COUNT(*) AS total_deliveries,\n",
    "       SUM(CASE WHEN actual_date <= expected_date THEN 1 ELSE 0 END) AS on_time,\n",
    "       ROUND(SUM(CASE WHEN actual_date <= expected_date THEN 1.0 ELSE 0 END) * 100.0 / COUNT(*), 2) AS on_time_rate\n",
    "FROM deliveries d\n",
    "JOIN suppliers s ON d.supplier_id = s.supplier_id\n",
    "GROUP BY s.supplier_id\n",
    "'''\n",
    "\n",
    "cursor.execute(query)\n",
    "results = cursor.fetchall()\n",
    "\n",
    "# Print results\n",
    "for row in results:\n",
    "    print(f\"Supplier: {row[0]}, Total Deliveries: {row[1]}, On-Time: {row[2]}, On-Time %: {row[3]}%\")"
   ]
  },
  {
   "cell_type": "code",
   "execution_count": 14,
   "metadata": {},
   "outputs": [
    {
     "data": {
      "image/png": "[encoded data removed]",
      "text/plain": [
       "<Figure size 800x500 with 1 Axes>"
      ]
     },
     "metadata": {},
     "output_type": "display_data"
    }
   ],
   "source": [
    "# Prepare data for chart\n",
    "supplier_names = [row[0] for row in results]\n",
    "on_time_rates = [row[3] for row in results]\n",
    "\n",
    "# Create bar chart\n",
    "plt.figure(figsize=(8, 5))\n",
    "plt.bar(supplier_names, on_time_rates)\n",
    "plt.ylabel('On-Time Delivery %')\n",
    "plt.xlabel('Supplier')\n",
    "plt.title('Supplier On-Time Delivery Performance')\n",
    "plt.ylim(0, 100)\n",
    "plt.grid(True)\n",
    "plt.show()"
   ]
  },
  {
   "cell_type": "code",
   "execution_count": 15,
   "metadata": {},
   "outputs": [],
   "source": [
    "conn.close()"
   ]
  },
  {
   "cell_type": "code",
   "execution_count": null,
   "metadata": {},
   "outputs": [],
   "source": []
  }
 ],
 "metadata": {
  "kernelspec": {
   "display_name": "Python 3 (ipykernel)",
   "language": "python",
   "name": "python3"
  },
  "language_info": {
   "codemirror_mode": {
    "name": "ipython",
    "version": 3
   },
   "file_extension": ".py",
   "mimetype": "text/x-python",
   "name": "python",
   "nbconvert_exporter": "python",
   "pygments_lexer": "ipython3",
   "version": "3.11.0"
  }
 },
 "nbformat": 4,
 "nbformat_minor": 4
}
